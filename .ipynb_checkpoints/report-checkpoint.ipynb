{
 "cells": [
  {
   "cell_type": "markdown",
   "metadata": {},
   "source": [
    "# 380CT THEORETICAL ASPECTS OF COMPUTER SCIENCE\n",
    "\n",
    "## Travelling Salesman Problem\n",
    "\n",
    "* Brief Background \n",
    "* Notation And Definitions\n",
    "* Methodology \n",
    "* Theory of Greedy Algorithm and Genetic Algortihm\n",
    "* Practice of Greedy Algorithm and Genetic Algorithm\n",
    "* Conclusion\n",
    "* Reflection\n",
    "* References\n",
    "\n",
    "#### Author: Fudayl Talha Altınel\n"
   ]
  },
  {
   "cell_type": "markdown",
   "metadata": {},
   "source": [
    "## Brief Background\n",
    "\n",
    "Travelling Salesman problem has been a great problem for years. For the given number of cities and distances between each of them, we try to find shortest path that visits each city and returns back to the starting point. Famously travelling salesman problem is solved with exhaustive search algorithm in order to get the most accurate result. But our lives has been changed too much since theory of computational complexity came up. Then we started to realize complexity of exhaustive search algorithm was O(n!) and it was quiet inefficient to calculate larger problems due to it's high complexity. In the result it was taking too much time for larger problems and we had to come up with different algorithms which has lower complexity.\n"
   ]
  },
  {
   "cell_type": "markdown",
   "metadata": {},
   "source": [
    "## Notation And Definitions\n",
    "\n",
    "* Complete: the graph is undirected, has no self-loops, and each node is connected to all the other vertices.\n",
    "* Weighted: the edges have a weight (a positive integer).\n",
    "* Cycle: a path that visits every vertex once, and goes back to the start point.\n",
    "* Total cost of the cycle: sum of the edge weights of the cycle.\n"
   ]
  },
  {
   "cell_type": "markdown",
   "metadata": {},
   "source": [
    "## Methodology\n",
    "\n",
    "Since our problem was focused on complete weighted graph, we needed to create my cities-distances matrix which also had to show distances between them. And for our cities matrix sample, we knew that distance between A-B and B-A had to be same. So we generated it by that way. For greedy algorithm we have used starting point and cities-distances matrix as parameters. Starting point 0 means city A, 1 means city B, 2 means city C etc. For genetic algorithm we have used starting point, population size, elite size, mutation rate, generations number and cities-distances matrix as parameters.In experiments of this project we have compared times by only using different city numbers on both algorihms. We have also compared accuracy of our results by using numerous different samples with the same city numbers and taking the average of those to show better results on both algorithms.\n"
   ]
  },
  {
   "cell_type": "code",
   "execution_count": 16,
   "metadata": {},
   "outputs": [],
   "source": [
    "import random # for fair randomness\n",
    "import pandas as pd # for visualization\n",
    "from math import inf as oo # for greedy algorithm"
   ]
  },
  {
   "cell_type": "code",
   "execution_count": 17,
   "metadata": {},
   "outputs": [
    {
     "name": "stdout",
     "output_type": "stream",
     "text": [
      "    0   1   2   3   4   5   6   7   8   9\n",
      "0   0  94  97   6  34  26  96  21  52   7\n",
      "1  94   0  18  96  18  64  11  82  50  95\n",
      "2  97  18   0  38  58  66  46  70  11  30\n",
      "3   6  96  38   0  27  91  93  11  79  17\n",
      "4  34  18  58  27   0  59  37  43  78  20\n",
      "5  26  64  66  91  59   0  41   4  30  91\n",
      "6  96  11  46  93  37  41   0  65  23   2\n",
      "7  21  82  70  11  43   4  65   0  12  57\n",
      "8  52  50  11  79  78  30  23  12   0  66\n",
      "9   7  95  30  17  20  91   2  57  66   0\n"
     ]
    },
    {
     "data": {
      "text/plain": [
       "[[0, 94, 97, 6, 34, 26, 96, 21, 52, 7],\n",
       " [94, 0, 18, 96, 18, 64, 11, 82, 50, 95],\n",
       " [97, 18, 0, 38, 58, 66, 46, 70, 11, 30],\n",
       " [6, 96, 38, 0, 27, 91, 93, 11, 79, 17],\n",
       " [34, 18, 58, 27, 0, 59, 37, 43, 78, 20],\n",
       " [26, 64, 66, 91, 59, 0, 41, 4, 30, 91],\n",
       " [96, 11, 46, 93, 37, 41, 0, 65, 23, 2],\n",
       " [21, 82, 70, 11, 43, 4, 65, 0, 12, 57],\n",
       " [52, 50, 11, 79, 78, 30, 23, 12, 0, 66],\n",
       " [7, 95, 30, 17, 20, 91, 2, 57, 66, 0]]"
      ]
     },
     "execution_count": 17,
     "metadata": {},
     "output_type": "execute_result"
    }
   ],
   "source": [
    "def print_cities_and_distances(cities, distances):\n",
    "    \"\"\"\n",
    "    This is for printing our distances matrix\n",
    "    \"\"\"\n",
    "    df = pd.DataFrame(data=distances, columns=cities, index=cities)\n",
    "    print(df)\n",
    "    \n",
    "def get_cities(cities_count):\n",
    "    \"\"\"\n",
    "    This is for generating cities in 1D array\n",
    "    \"\"\"\n",
    "    return [c for c in range(cities_count)]\n",
    "\n",
    "def create_random_cities_and_distances():\n",
    "    \"\"\"\n",
    "    This is for generating our distances matrix as 2D array\n",
    "    \"\"\"\n",
    "    cities_count = random.randint(10, 10)\n",
    "    cities = [c for c in range(cities_count)]\n",
    "    distances = [[] for _ in range(cities_count)]\n",
    "\n",
    "    for i in range(cities_count):\n",
    "        for j in range(cities_count):\n",
    "            if i == j:\n",
    "                distance = 0\n",
    "            elif i > j:\n",
    "                distance = distances[j][i]\n",
    "            else:\n",
    "                distance = random.randint(1, 100)\n",
    "            distances[i].append(distance)\n",
    "    print_cities_and_distances(cities, distances)\n",
    "    return distances\n",
    "\n",
    "create_random_cities_and_distances()"
   ]
  },
  {
   "cell_type": "markdown",
   "metadata": {},
   "source": [
    "## Theory of Greedy Algorithm\n",
    "\n",
    "Greedy algorithm is a basically an algorithm that prefers the points which has shortest distance between the current point and the next point. But overlappings are not allowed so it needs to be complete, cycle and direct itself by tracking which points it visited. This was the main idea of the greedy algorithm.\n",
    "\n",
    "### Formulation of Idea\n",
    "\n",
    "* We initiate our starting point and empty visited route list.Then we set our shortest distance to infinity and set all cities as available direction paths\n",
    "* For all outer city iterations we need to calculate the possible distances and directions. For that purpose we check available points for our current point which is our starting point and if it is our current point we skip it and if it is not we check for the shortest distance if it is less than our last shortest distance value we keep that point as picked point.\n",
    "* Before we go into next outer city iteration we add that distance to our sum and add picked point into visited route. We also remove the current point from available path and set our current point as picked point. Lastly we set our shortest distance to infinity\n",
    "* After the first city iteration, we repeat the same cycle for all city iterations,then we return the sum and visited route in the end"
   ]
  },
  {
   "cell_type": "code",
   "execution_count": 30,
   "metadata": {},
   "outputs": [
    {
     "name": "stdout",
     "output_type": "stream",
     "text": [
      "    0   1   2   3   4   5   6   7   8   9\n",
      "0   0  76  24  29  37  52  76  67  63  47\n",
      "1  76   0  98  43  91  69  67   4  74  79\n",
      "2  24  98   0  81  74  30  50  25  25  31\n",
      "3  29  43  81   0  20  95  61  29  60  42\n",
      "4  37  91  74  20   0  89  93  96  17  33\n",
      "5  52  69  30  95  89   0  57  38  36   2\n",
      "6  76  67  50  61  93  57   0   2  38  68\n",
      "7  67   4  25  29  96  38   2   0  17  84\n",
      "8  63  74  25  60  17  36  38  17   0  95\n",
      "9  47  79  31  42  33   2  68  84  95   0\n",
      "Route: [0, 2, 7, 6, 8, 4, 3, 9, 5, 1]\n",
      "Distance: 315\n",
      "10\n"
     ]
    },
    {
     "data": {
      "text/plain": [
       "(315, [0, 2, 7, 6, 8, 4, 3, 9, 5, 1])"
      ]
     },
     "execution_count": 30,
     "metadata": {},
     "output_type": "execute_result"
    }
   ],
   "source": [
    "def do_greedy_search(starting_point, distances_matrix):\n",
    "    cities = get_cities(len(distances_matrix))\n",
    "    start_point = starting_point  # 0 means A, 1 means B, 2 means C\n",
    "    if start_point >= len(cities) or start_point < 0:\n",
    "        start_point = 0\n",
    "    current_point = start_point\n",
    "    shortest_distance = oo\n",
    "    visited_route = list()\n",
    "    visited_route.append(current_point)\n",
    "    available_path = cities  # [0,1,2,3] for 4 cities\n",
    "    sum = 0\n",
    "\n",
    "    for city in range(len(cities)):\n",
    "        for i in range(len(cities)):\n",
    "            if available_path[i] == current_point:\n",
    "                continue\n",
    "            elif shortest_distance > distances_matrix[current_point][available_path[i]]:\n",
    "                picked_point = available_path[i]\n",
    "            shortest_distance = min(shortest_distance, distances_matrix[current_point][available_path[i]])\n",
    "        if len(available_path) <= 1:\n",
    "            sum += distances_matrix[current_point][start_point]\n",
    "            print(\"Route: \" + str(visited_route))\n",
    "            print(\"Distance: \" + str(sum))\n",
    "        else:\n",
    "            sum += distances_matrix[current_point][picked_point]\n",
    "            visited_route.append(picked_point)\n",
    "            available_path.remove(current_point)\n",
    "            current_point = picked_point\n",
    "            shortest_distance = oo\n",
    "    return sum, visited_route\n",
    "\n",
    "do_greedy_search(0,create_random_cities_and_distances())"
   ]
  },
  {
   "cell_type": "markdown",
   "metadata": {},
   "source": [
    "## Theory of Genetic Algortihm\n",
    "\n",
    "Genetic algorithm is basically an algorithm that improves itself overtime through different stages in a generation. These stages simply summarized as creating population, doing the selection, breeding the remaining population and applying the mutation lastly. Random generator is heavily used through all of those stages defined before this sentence. Population is mostly ranked according to their fitness scores most of the time during all those stages to keep track of the fittest(shortest) individual route. After repeating those steps for each generation we get the shortest alternatives in our results.This was the main idea of the genetic algorithm\n",
    "\n",
    "### Formulation of Idea\n",
    "\n",
    "* We create random routes by length of cities and population size with starting points and add them into population. There may be duplicates during this process but it is usually fine\n",
    "* We define a fitness score for a route which is actually 1 over the total distance of the route\n",
    "* We define a ranked population which the sorted version of the population according to their fitness score\n",
    "* We get ranked population and elite size as parameters in selection.Elites already are guarenteed to win selection so we add them into our result list. For the rest of them we construct a cumulative sum and a cumulative percentage, we pick a random percentage between 0 and 100 and pick the closest smaller index and add it from population ranked to the result\n",
    "* According to fitness results we get the routes from population in mating pool.\n",
    "* We define breeding which is basically taking parts from first parent and second parent. During the breeding process we pick a starting point and ending point(depends on a random number) which specifies the indexed array from first parent and fill the missing cities from second parent. In the result we return the route\n",
    "* We define the breeding for population which does perform breeding between the fittest one(first index of ranked population) and the worst one(last index of ranked population) then the second fittest one and the second worst one...for the last one the worst one and the fittest one it goes on until everyone breeded twice in our population.And elites still get into new generation as children but they also breed\n",
    "* We define the mutation which is basically a small chance to swap the points(genes) in routes(individuals) and apply it to entire population\n",
    "* After these steps are taken we repeat this same cycle(selection,breed,mutate) to get better generations as results"
   ]
  },
  {
   "cell_type": "code",
   "execution_count": null,
   "metadata": {},
   "outputs": [],
   "source": [
    "def create_initial_population(starting_point, cities, population_size):\n",
    "    \"\"\"\n",
    "    This creates random routes as an array and stores into population.\n",
    "    There can be duplicates. First index is always starting point\n",
    "    \"\"\"\n",
    "    start_point = starting_point  # 0 means A, 1 means B, 2 means C etc.\n",
    "    if start_point >= len(cities) or start_point < 0:\n",
    "        start_point = 0\n",
    "    population = []\n",
    "    for i in range(population_size):\n",
    "        temp = random.sample(cities, len(cities))\n",
    "        if start_point in temp:\n",
    "            temp.remove(start_point)\n",
    "        temp[:0] = [start_point]\n",
    "        population.append(temp)\n",
    "    return population"
   ]
  },
  {
   "cell_type": "code",
   "execution_count": null,
   "metadata": {},
   "outputs": [],
   "source": [
    "def get_fitness_score(route, distances_matrix):\n",
    "    \"\"\"\n",
    "    This gets the fitness score of the route\n",
    "    Longer the route lower the score becomes\n",
    "    \"\"\"\n",
    "    distance = 0\n",
    "    for i in range(len(route)-1):\n",
    "        distance += distances_matrix[route[i]][route[i+1]]\n",
    "    distance += distances_matrix[route[len(route)-1]][route[0]]\n",
    "    return 1 / float(distance)"
   ]
  },
  {
   "cell_type": "code",
   "execution_count": null,
   "metadata": {},
   "outputs": [],
   "source": [
    "def rank_routes(population, distances_matrix):\n",
    "    \"\"\"\n",
    "    This function creates hash map as key,value pairs and\n",
    "    Returns sorted according to fitness score like [(1, 0.0792), (3, 0.0760), (2, 0.0742), (4, 0.0739)]\n",
    "    \"\"\"\n",
    "    fitness_results = {}\n",
    "    for i in range(len(population)):\n",
    "        fitness_results[i] = get_fitness_score(population[i], distances_matrix)\n",
    "    return sorted(fitness_results.items(), key=operator.itemgetter(1), reverse=True)"
   ]
  },
  {
   "cell_type": "code",
   "execution_count": null,
   "metadata": {},
   "outputs": [],
   "source": [
    "def selection(population_ranked, elite_size):\n",
    "    \"\"\"\n",
    "    This function guarantees first elites to be included in output array according to fitness points\n",
    "    Then for the remaining part it picks random percentage and compares it with the cumulative percentage\n",
    "    If that percentage is higher it adds it and goes for the next iteration until it feels population back to its size\n",
    "    Lower the pick more healthy population will be generated but variation will get less which is something we dont like\n",
    "    \"\"\"\n",
    "    selection_results = []\n",
    "    df = pd.DataFrame(np.array(population_ranked), columns=[\"Index\", \"Fitness\"])\n",
    "    df[\"cum_sum\"] = df.Fitness.cumsum()\n",
    "    df[\"cum_perc\"] = 100 * df.cum_sum/df.Fitness.sum()\n",
    "    for i in range(elite_size):\n",
    "        selection_results.append(population_ranked[i][0])\n",
    "    for i in range(len(population_ranked) - elite_size):\n",
    "        pick = 100 * random.random()\n",
    "        for i in range(len(population_ranked)):\n",
    "            if pick <= df.iat[i, 3]:\n",
    "                selection_results.append(population_ranked[i][0])\n",
    "                break\n",
    "    return selection_results"
   ]
  },
  {
   "cell_type": "code",
   "execution_count": null,
   "metadata": {},
   "outputs": [],
   "source": [
    "def get_mating_pool(population, selection_results):\n",
    "    \"\"\"\n",
    "    This function gets our population in array with respect to selection results\n",
    "    \"\"\"\n",
    "    mating_pool = []\n",
    "    for i in range(len(selection_results)):\n",
    "        index = selection_results[i]\n",
    "        mating_pool.append(population[index])\n",
    "    return mating_pool"
   ]
  },
  {
   "cell_type": "code",
   "execution_count": null,
   "metadata": {},
   "outputs": [],
   "source": [
    "def breed(parent1, parent2):\n",
    "    \"\"\"\n",
    "    This functions constructs a child from parent1 and parent2.ChildPart1 comes from parent1 and\n",
    "    ChildPart2 comes from parent2.Idea is we always pick [0 to random value] interval from parent1 and\n",
    "    Complete missing parts from parent1 with order\n",
    "    \"\"\"\n",
    "    child = []\n",
    "    childPart1 = []\n",
    "    childPart2 = []\n",
    "\n",
    "    geneA = random.randint(0,len(parent1)-1)\n",
    "    geneB = random.randint(0,len(parent1)-1)\n",
    "    startingPointOfGene = 0  # set to 0 because we wanna keep our starting point in child\n",
    "    endingPointOfGene = (geneA+geneB) // 2 + 1\n",
    "    if endingPointOfGene == len(parent1):\n",
    "        endingPointOfGene -= 1\n",
    "\n",
    "    for i in range(startingPointOfGene, endingPointOfGene):\n",
    "        childPart1.append(parent1[i])\n",
    "\n",
    "    childPart2 = [i for i in parent2 if i not in childPart1]\n",
    "\n",
    "    child = childPart1 + childPart2\n",
    "    return child"
   ]
  },
  {
   "cell_type": "code",
   "execution_count": null,
   "metadata": {},
   "outputs": [],
   "source": [
    "def breed_population(mating_pool, elite_size):\n",
    "    \"\"\"\n",
    "    Elites directly become the children since they don't die for generations.Pool is obtained by random samples\n",
    "    Of mating pool.In mating pool one couple can have more than 1 kids but their kids can be different than the siblings\n",
    "    In odd number of populations a person can have a kid by itself and the kid will be exactly itself.Make sure we dont\n",
    "    Have odd population numbers for more variety\n",
    "    \"\"\"\n",
    "    children = []\n",
    "    length = len(mating_pool) - elite_size\n",
    "    pool = random.sample(mating_pool, len(mating_pool))\n",
    "\n",
    "    for i in range(elite_size):\n",
    "        children.append(mating_pool[i])\n",
    "\n",
    "    for i in range(length):\n",
    "        child = breed(pool[i], pool[len(mating_pool)-i-1])\n",
    "        children.append(child)\n",
    "    return children"
   ]
  },
  {
   "cell_type": "code",
   "execution_count": null,
   "metadata": {},
   "outputs": [],
   "source": [
    "def mutate(individual, mutation_rate):\n",
    "    \"\"\"\n",
    "    Mutation is actually basic swap operation which depends on its rate for each iteration\n",
    "    \"\"\"\n",
    "    for swapped in range(1, len(individual)):\n",
    "        if random.random() < mutation_rate:\n",
    "            swapWith = random.randint(1, len(individual)-1)\n",
    "            city1 = individual[swapped]\n",
    "            city2 = individual[swapWith]\n",
    "            individual[swapped] = city2\n",
    "            individual[swapWith] = city1\n",
    "    return individual"
   ]
  },
  {
   "cell_type": "code",
   "execution_count": null,
   "metadata": {},
   "outputs": [],
   "source": [
    "def mutate_population(population, mutation_rate):\n",
    "    \"\"\"\n",
    "    Tries to apply mutation to all population\n",
    "    \"\"\"\n",
    "    population_mutated = []\n",
    "\n",
    "    for i in range(len(population)):\n",
    "        individual = mutate(population[i], mutation_rate)\n",
    "        population_mutated.append(individual)\n",
    "    return population_mutated"
   ]
  },
  {
   "cell_type": "code",
   "execution_count": null,
   "metadata": {},
   "outputs": [],
   "source": [
    "def generate_new_generation(current_generation, elite_size, mutation_rate, distances_matrix):\n",
    "    \"\"\"\n",
    "    Generates a new population from the 1 generation older population\n",
    "    \"\"\"\n",
    "    population_ranked = rank_routes(current_generation, distances_matrix)\n",
    "    selection_results = selection(population_ranked, elite_size)\n",
    "    mating_pool = get_mating_pool(current_generation, selection_results)\n",
    "    children = breed_population(mating_pool, elite_size)\n",
    "    next_generation = mutate_population(children, mutation_rate)\n",
    "\n",
    "    return next_generation"
   ]
  },
  {
   "cell_type": "code",
   "execution_count": null,
   "metadata": {},
   "outputs": [],
   "source": [
    "def do_genetic_search(starting_point, population_size, elite_size, mutation_rate, generations, distances_matrix):\n",
    "    population = create_initial_population(starting_point, get_cities(len(distances_matrix)) ,population_size)\n",
    "    print(\"Initial distance: \" + str(1/rank_routes(population, distances_matrix)[0][1]))\n",
    "\n",
    "    for i in range(generations):\n",
    "        population = generate_new_generation(population, elite_size, mutation_rate, distances_matrix)\n",
    "        print(\"Distance: \" + str(1 / rank_routes(population, distances_matrix)[0][1]))\n",
    "\n",
    "    print(\"Final distance: \" + str(1/rank_routes(population, distances_matrix)[0][1]))\n",
    "    index = rank_routes(population, distances_matrix)[0][0]\n",
    "    route = population[index]\n",
    "    print(\"Your ideal route is: \" + str(route))\n",
    "    return 1/rank_routes(population, distances_matrix)[0][1], route"
   ]
  },
  {
   "cell_type": "markdown",
   "metadata": {},
   "source": [
    "## Practice of Greedy Algorithm and Genetic Algorithm\n",
    "\n",
    "* Time Experiment\n",
    "* Accuracy Experiment"
   ]
  },
  {
   "cell_type": "markdown",
   "metadata": {},
   "source": [
    "## Conclusion"
   ]
  },
  {
   "cell_type": "markdown",
   "metadata": {},
   "source": [
    "## Reflection\n",
    "\n",
    "I have developed the genetic algorithm by reading lots of documents about the idea and the implementation aspects. The project taught me better organization skills while i was working with my team. Most importantly project also taught me more different aspects of the genetic algorithm such as different selection and mutation method algorithms. I also have realized the genetic algorithm could also be a solution for different type of problems in reinforcement learning or deep learning which are more relevant to artificial intelligence. In future i might be able to apply my genetic algortihm thinking in those areas that i have mentioned. Lastly [STATE TWO THINGS THAT COULD HAVE BEEN IMPROVED AND HOW]"
   ]
  },
  {
   "cell_type": "markdown",
   "metadata": {},
   "source": [
    "## References\n",
    "\n",
    "* Evolution of a salesman: A complete genetic algorithm tutorial for Python by Eric Stoltz\n",
    "<br /> https://towardsdatascience.com/evolution-of-a-salesman-a-complete-genetic-algorithm-tutorial-for-python-6fe5d2b3ca35\n",
    "* "
   ]
  },
  {
   "cell_type": "code",
   "execution_count": null,
   "metadata": {},
   "outputs": [],
   "source": []
  }
 ],
 "metadata": {
  "kernelspec": {
   "display_name": "Python 3",
   "language": "python",
   "name": "python3"
  },
  "language_info": {
   "codemirror_mode": {
    "name": "ipython",
    "version": 3
   },
   "file_extension": ".py",
   "mimetype": "text/x-python",
   "name": "python",
   "nbconvert_exporter": "python",
   "pygments_lexer": "ipython3",
   "version": "3.7.1"
  }
 },
 "nbformat": 4,
 "nbformat_minor": 2
}
